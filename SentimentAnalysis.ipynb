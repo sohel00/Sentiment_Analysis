{
 "cells": [
  {
   "cell_type": "code",
   "execution_count": 1,
   "metadata": {},
   "outputs": [
    {
     "name": "stdout",
     "output_type": "stream",
     "text": [
      "RT @perfectsliders: 66% say #Trump's Twitter use is hurting his presidency #ABC #WaPo\n",
      "Sentiment(polarity=0.0, subjectivity=0.0)\n",
      "RT @amjoyshow: .@GABRIELSHERMAN: I think without question #DonaldTrump sees himself as the executive producer of this giant TV show that he…\n",
      "Sentiment(polarity=0.0, subjectivity=1.0)\n",
      "US Senator Tammy Duckworth (D-IL), an Iraq War Veteran who lost both legs in combat, replied to President Trump's t… https://t.co/92XtIctECM\n",
      "Sentiment(polarity=0.0, subjectivity=0.0)\n",
      "RT @TalbertSwan: @PressSec Trump, hard at work tweeting insults at Democrats instead of negotiating with them in good faith to end the #Tru…\n",
      "Sentiment(polarity=0.20416666666666664, subjectivity=0.5708333333333333)\n",
      "RT @Emolclause: How is it NOT SUPER #BreakingNews that a FEW MONTHS TO #Midterms2018, Russia is STILL MEDDLING IN U.S. POLITICS and #Trump…\n",
      "Sentiment(polarity=-0.18333333333333335, subjectivity=0.3833333333333333)\n",
      "RT @ASlavitt: Tax cuts wouldn’t have passed if Trump hadn’t roped in 2 “trust us” votes.\n",
      "\n",
      "1. Flake was promised DACA in January.\n",
      "2. Collins…\n",
      "Sentiment(polarity=0.0, subjectivity=0.0)\n",
      "RT @ProtectingTrump: @_JustTooMuch_ @realDonaldTrump What evidence is there on Trump? Please share!\n",
      "Russian bots my ass! You shitheads just…\n",
      "Sentiment(polarity=0.0, subjectivity=0.0)\n",
      "RT @BettyBowers: Why only rallies AGAINST Trump have to be held outside:\n",
      "#WomensMarch2018 \n",
      "https://t.co/y2hgM51bAz\n",
      "Sentiment(polarity=0.0, subjectivity=0.525)\n",
      "RT @EdKrassen: On January 30th, there is a national boycott of Trump’s State of the Union address.  I’m calling on everyone to boycott the…\n",
      "Sentiment(polarity=0.0, subjectivity=0.0)\n",
      "RT @DorMouseSez: But this is zombie Republican party, dominated by Trump and the ethno-nationalist? Mr. Shit-house and his band of silly sy…\n",
      "Sentiment(polarity=-0.5, subjectivity=0.875)\n",
      "RT @JoeNBC: This is not Chuck Schumer’s shutdown. This is not Mitch McConnell’s shutdown. This is Donald Trump and Stephen Miller’s shutdow…\n",
      "Sentiment(polarity=0.0, subjectivity=0.0)\n",
      "RT @imagenZea: ¿Qué tienen en común Donald Trump, Martin Luther King y Wikipedia? @ElOpinadorTV nos cuenta qué podemos aprender de quien co…\n",
      "Sentiment(polarity=0.0, subjectivity=0.0)\n",
      "RT @funder: Chant from outside the White House:\n",
      "\n",
      "“HEY HEY—HO HO—DONALD TRUMP HAS GOT TO GO!”\n",
      "\n",
      "#TrumpShutdown #TheResistance #AMJoy https://…\n",
      "Sentiment(polarity=0.0, subjectivity=0.025)\n",
      "RT @funder: Donald Trump wanted the government to shut down, because he thought it would be good for him politically. That’s why he ruined…\n",
      "Sentiment(polarity=0.18148148148148147, subjectivity=0.32962962962962966)\n",
      "RT @abludworth: @Evan_McMullin I think the just released Trump ad is a pretty good indicator: 1) He doesn’t want a deal 2) He’s whistling t…\n",
      "Sentiment(polarity=0.475, subjectivity=0.8)\n"
     ]
    }
   ],
   "source": [
    "from textblob import TextBlob\n",
    "import tweepy\n",
    "\n",
    "consumer_key = '8fyYqm49CTRR5H0JRkhxH0f2s'\n",
    "consumer_secret = 'eM5L0a0WYzZtT8r3quBiE4SVOz1IjZYHcST1gyMITcY46DHLeM'\n",
    "\n",
    "access_token = '4015739903-dq9HrBPcWmS4Lfulwcx9gBqrAG73M3neZw5BnTY'\n",
    "access_token_secret = 'todlONeA68QUgmPYRuKMz8EhyYEdFBlE7Ys84pRh3yxoX'\n",
    "\n",
    "auth = tweepy.OAuthHandler(consumer_key, consumer_secret)\n",
    "auth.set_access_token(access_token, access_token_secret)\n",
    "\n",
    "api = tweepy.API(auth)\n",
    "\n",
    "public_tweets = api.search('trump')\n",
    "\n",
    "for tweet in public_tweets:\n",
    "    print(tweet.text)\n",
    "    analysis = TextBlob(tweet.text)\n",
    "    print(analysis.sentiment)\n"
   ]
  },
  {
   "cell_type": "code",
   "execution_count": null,
   "metadata": {
    "collapsed": true
   },
   "outputs": [],
   "source": []
  }
 ],
 "metadata": {
  "kernelspec": {
   "display_name": "Python 3",
   "language": "python",
   "name": "python3"
  },
  "language_info": {
   "codemirror_mode": {
    "name": "ipython",
    "version": 3
   },
   "file_extension": ".py",
   "mimetype": "text/x-python",
   "name": "python",
   "nbconvert_exporter": "python",
   "pygments_lexer": "ipython3",
   "version": "3.6.3"
  }
 },
 "nbformat": 4,
 "nbformat_minor": 2
}
